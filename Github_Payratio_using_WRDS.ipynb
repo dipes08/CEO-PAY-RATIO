{
  "nbformat": 4,
  "nbformat_minor": 0,
  "metadata": {
    "colab": {
      "provenance": []
    },
    "kernelspec": {
      "name": "python3",
      "display_name": "Python 3"
    },
    "language_info": {
      "name": "python"
    }
  },
  "cells": [
    {
      "cell_type": "code",
      "metadata": {
        "id": "TpukPrpHdN9r",
        "outputId": "d10a0a8f-a85c-4f60-e9dc-8de01c4d1a76",
        "colab": {
          "base_uri": "https://localhost:8080/"
        }
      },
      "source": [
        "!pip install -q wrds\n",
        "import wrds\n",
        "\n",
        "!pip install bs4 -q\n",
        "from bs4 import BeautifulSoup\n",
        "\n",
        "!pip install  transformers -q\n",
        "from transformers import pipeline\n",
        "\n",
        "!pip install sentencepiece -q\n",
        "import sentencepiece\n",
        "\n",
        "!pip install openai -q\n",
        "import openai"
      ],
      "execution_count": 29,
      "outputs": [
        {
          "output_type": "stream",
          "name": "stdout",
          "text": [
            "\u001b[?25l     \u001b[90m━━━━━━━━━━━━━━━━━━━━━━━━━━━━━━━━━━━━━━━━\u001b[0m \u001b[32m0.0/1.3 MB\u001b[0m \u001b[31m?\u001b[0m eta \u001b[36m-:--:--\u001b[0m\r\u001b[2K     \u001b[91m━━━━━━━━━━━━━━━━━\u001b[0m\u001b[91m╸\u001b[0m\u001b[90m━━━━━━━━━━━━━━━━━━━━━━\u001b[0m \u001b[32m0.6/1.3 MB\u001b[0m \u001b[31m16.8 MB/s\u001b[0m eta \u001b[36m0:00:01\u001b[0m\r\u001b[2K     \u001b[90m━━━━━━━━━━━━━━━━━━━━━━━━━━━━━━━━━━━━━━━━\u001b[0m \u001b[32m1.3/1.3 MB\u001b[0m \u001b[31m18.8 MB/s\u001b[0m eta \u001b[36m0:00:00\u001b[0m\n",
            "\u001b[?25h"
          ]
        }
      ]
    },
    {
      "cell_type": "code",
      "source": [
        "import os\n",
        "import re\n",
        "import pandas as pd\n",
        "import requests\n",
        "import pickle\n",
        "import tensorflow as tf\n",
        "from PIL import Image\n",
        "from io import BytesIO\n",
        "from tqdm import tqdm\n",
        "headers={'User-Agent': 'email@gmail.com'}"
      ],
      "metadata": {
        "id": "Gmp8N_Y7fnHA"
      },
      "execution_count": 30,
      "outputs": []
    },
    {
      "cell_type": "code",
      "source": [
        "import os\n",
        "os.environ[\"CUDA_VISIBLE_DEVICES\"] = \"0\"\n",
        "os.environ['CUDA_LAUNCH_BLOCKING'] = \"1\""
      ],
      "metadata": {
        "id": "7jxLggl5gJZs"
      },
      "execution_count": 31,
      "outputs": []
    },
    {
      "cell_type": "code",
      "source": [
        "from transformers import AutoTokenizer, AutoModelForQuestionAnswering\n",
        "\n",
        "tokenizer = AutoTokenizer.from_pretrained(\"deepset/roberta-large-squad2\")\n",
        "\n",
        "model = AutoModelForQuestionAnswering.from_pretrained(\"deepset/roberta-large-squad2\")\n",
        "\n",
        "qa_model = pipeline('question-answering', model=model, tokenizer=tokenizer) #Using CPUs. add argument device=0  if running on GPUs."
      ],
      "metadata": {
        "id": "XtDCTmGNgPJu"
      },
      "execution_count": 34,
      "outputs": []
    },
    {
      "cell_type": "code",
      "metadata": {
        "id": "usY1u1A2fDB9"
      },
      "source": [
        "#Set up connection to WRDS. Need WRDS username and Password\n",
        "db = wrds.Connection()"
      ],
      "execution_count": null,
      "outputs": []
    },
    {
      "cell_type": "code",
      "source": [
        "#Get Def14A (First 10 Def14A of the year 2020)\n",
        "sql_query =\"\"\"\n",
        "SELECT *\n",
        "FROM wrdssec_all.forms\n",
        "WHERE form='DEF 14A' and fdate>'2020-01-01' and fdate<'2020-02-01' and gvkey != 'None'\n",
        "LIMIT 10\n",
        "\"\"\"\n",
        "def14 = db.raw_sql(sql_query) \n",
        "def14['seclink']='https://www.sec.gov/Archives/'+def14.fname\n",
        "def14"
      ],
      "metadata": {
        "id": "kJU-tmxacMMC"
      },
      "execution_count": null,
      "outputs": []
    },
    {
      "cell_type": "code",
      "source": [
        "#Get and clean Def14A\n",
        "def get_clean_text(url):\n",
        "  page=requests.get(url, headers=headers).text\n",
        "  soup = BeautifulSoup(page)\n",
        "  text=soup.get_text(\"\\n\\n\")\n",
        "\n",
        "  text=re.sub(r'\\n\\n',' ',text)\n",
        "  text=re.sub(r'\\n',' ',text)\n",
        "  text=re.sub(r'&#160;|&nbsp;|•',' ',text)\n",
        "  text=re.sub(r'\\xa0|\\x92|\\x93|\\x94|\\x95|\\x96|\\x97|\\x98|\\x99',' ',text)\n",
        "\n",
        "  text=text.replace('  ','')\n",
        "  text=text.replace('\\.','')\n",
        "  text=text.replace('>','')\n",
        "  return text"
      ],
      "metadata": {
        "id": "Gj8O0-v_fkAH"
      },
      "execution_count": 61,
      "outputs": []
    },
    {
      "cell_type": "code",
      "source": [
        "def get_near_words(url):\n",
        "  # Define the word you want to search for\n",
        "  words = [\"median\"]\n",
        "\n",
        "  # Split the text into a list of words or numbers\n",
        "  words_numbers_chars = re.findall(r\"[\\w']+|[\\d.]+|[^\\w\\s]\", get_clean_text(url))\n",
        "\n",
        "  # Find all instances of the word in the text\n",
        "  indices = [i for i, w in enumerate(words_numbers_chars) if w.lower() in words]\n",
        "\n",
        "  # Extract the context for each instance of the word\n",
        "\n",
        "  output=[]\n",
        "  for index in indices:\n",
        "      start = max(0, index - 500)\n",
        "      end = min(len(words_numbers_chars), index + 500)\n",
        "      context = words_numbers_chars[start:end]\n",
        "      temp= \" \".join(context)\n",
        "      output.append(temp)\n",
        "\n",
        "  return  \" \".join(output)"
      ],
      "metadata": {
        "id": "kql6HGU_lLHb"
      },
      "execution_count": 149,
      "outputs": []
    },
    {
      "cell_type": "code",
      "source": [
        "#Setup question and answering pipeline using huggingface model.\n",
        "def qa(url):\n",
        "  try:\n",
        "    answer=qa_model(question = \"What is the ratio of ceo salary with median employee salary?\",\n",
        "            context = get_near_words(url))\n",
        "    return answer['answer']\n",
        "  except:\n",
        "    return 'not available'"
      ],
      "metadata": {
        "id": "lhOXIx4dhuPz"
      },
      "execution_count": 150,
      "outputs": []
    },
    {
      "cell_type": "code",
      "metadata": {
        "id": "c7xGSNUjfIOc"
      },
      "source": [
        "#Result using Hugginface models\n",
        "def14[0:3].seclink.apply(lambda x: qa(x))"
      ],
      "execution_count": null,
      "outputs": []
    },
    {
      "cell_type": "code",
      "source": [
        "#Using ChatGPT\n",
        "!pip install openai -q\n",
        "import openai"
      ],
      "metadata": {
        "id": "UyzKKrbDoR_E"
      },
      "execution_count": null,
      "outputs": []
    },
    {
      "cell_type": "code",
      "source": [
        "#Setup question and answering pipeline using OpenAI model.\n",
        "def qa_openai(url):\n",
        "  openai.api_key = \"your api keys goes here\"\n",
        "\n",
        "  response = openai.Completion.create(\n",
        "    model=\"text-davinci-003\",\n",
        "    prompt=get_near_words(url) + '''\n",
        "    \n",
        "    \"What is the ratio of ceo salary with median employee salary? If answer cannot be inferred from the text, please say not avaiable.\"\n",
        "''',\n",
        "    temperature=0,\n",
        "    max_tokens=20,\n",
        "    top_p=1.0,\n",
        "    frequency_penalty=0.0,\n",
        "    presence_penalty=0.0\n",
        "  )\n",
        "\n",
        "  return response.choices[0][\"text\"]"
      ],
      "metadata": {
        "id": "EhBPRHs8n91K"
      },
      "execution_count": 138,
      "outputs": []
    },
    {
      "cell_type": "code",
      "source": [
        "#Result using CHATGPT models\n",
        "def14[0:3].seclink.apply(lambda x: qa_openai(x))"
      ],
      "metadata": {
        "id": "kLLoCSSkpR6M"
      },
      "execution_count": null,
      "outputs": []
    },
    {
      "cell_type": "code",
      "source": [],
      "metadata": {
        "id": "-bHTozpKtAzr"
      },
      "execution_count": null,
      "outputs": []
    }
  ]
}